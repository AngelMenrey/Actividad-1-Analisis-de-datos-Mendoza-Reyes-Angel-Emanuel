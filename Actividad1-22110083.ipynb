{
 "cells": [
  {
   "cell_type": "markdown",
   "id": "82df597a",
   "metadata": {},
   "source": [
    "Series"
   ]
  },
  {
   "cell_type": "code",
   "execution_count": 1,
   "id": "3f01c8bf",
   "metadata": {},
   "outputs": [
    {
     "data": {
      "text/plain": [
       "0    1\n",
       "1    3\n",
       "2    5\n",
       "3    7\n",
       "4    9\n",
       "dtype: int64"
      ]
     },
     "execution_count": 1,
     "metadata": {},
     "output_type": "execute_result"
    }
   ],
   "source": [
    "import pandas as pd\n",
    "s = pd.Series([1, 3, 5, 7, 9])\n",
    "s"
   ]
  },
  {
   "cell_type": "markdown",
   "id": "325ba57a",
   "metadata": {},
   "source": [
    "DataFrame"
   ]
  },
  {
   "cell_type": "code",
   "execution_count": 2,
   "id": "0934c8b0",
   "metadata": {},
   "outputs": [
    {
     "data": {
      "text/html": [
       "<div>\n",
       "<style scoped>\n",
       "    .dataframe tbody tr th:only-of-type {\n",
       "        vertical-align: middle;\n",
       "    }\n",
       "\n",
       "    .dataframe tbody tr th {\n",
       "        vertical-align: top;\n",
       "    }\n",
       "\n",
       "    .dataframe thead th {\n",
       "        text-align: right;\n",
       "    }\n",
       "</style>\n",
       "<table border=\"1\" class=\"dataframe\">\n",
       "  <thead>\n",
       "    <tr style=\"text-align: right;\">\n",
       "      <th></th>\n",
       "      <th>img</th>\n",
       "      <th>title</th>\n",
       "      <th>console</th>\n",
       "      <th>genre</th>\n",
       "      <th>publisher</th>\n",
       "      <th>developer</th>\n",
       "      <th>critic_score</th>\n",
       "      <th>total_sales</th>\n",
       "      <th>na_sales</th>\n",
       "      <th>jp_sales</th>\n",
       "      <th>pal_sales</th>\n",
       "      <th>other_sales</th>\n",
       "      <th>release_date</th>\n",
       "      <th>last_update</th>\n",
       "    </tr>\n",
       "  </thead>\n",
       "  <tbody>\n",
       "    <tr>\n",
       "      <th>0</th>\n",
       "      <td>/games/boxart/full_6510540AmericaFrontccc.jpg</td>\n",
       "      <td>Grand Theft Auto V</td>\n",
       "      <td>PS3</td>\n",
       "      <td>Action</td>\n",
       "      <td>Rockstar Games</td>\n",
       "      <td>Rockstar North</td>\n",
       "      <td>9.4</td>\n",
       "      <td>20.32</td>\n",
       "      <td>6.37</td>\n",
       "      <td>0.99</td>\n",
       "      <td>9.85</td>\n",
       "      <td>3.12</td>\n",
       "      <td>2013-09-17</td>\n",
       "      <td>NaN</td>\n",
       "    </tr>\n",
       "    <tr>\n",
       "      <th>1</th>\n",
       "      <td>/games/boxart/full_5563178AmericaFrontccc.jpg</td>\n",
       "      <td>Grand Theft Auto V</td>\n",
       "      <td>PS4</td>\n",
       "      <td>Action</td>\n",
       "      <td>Rockstar Games</td>\n",
       "      <td>Rockstar North</td>\n",
       "      <td>9.7</td>\n",
       "      <td>19.39</td>\n",
       "      <td>6.06</td>\n",
       "      <td>0.60</td>\n",
       "      <td>9.71</td>\n",
       "      <td>3.02</td>\n",
       "      <td>2014-11-18</td>\n",
       "      <td>2018-01-03</td>\n",
       "    </tr>\n",
       "    <tr>\n",
       "      <th>2</th>\n",
       "      <td>/games/boxart/827563ccc.jpg</td>\n",
       "      <td>Grand Theft Auto: Vice City</td>\n",
       "      <td>PS2</td>\n",
       "      <td>Action</td>\n",
       "      <td>Rockstar Games</td>\n",
       "      <td>Rockstar North</td>\n",
       "      <td>9.6</td>\n",
       "      <td>16.15</td>\n",
       "      <td>8.41</td>\n",
       "      <td>0.47</td>\n",
       "      <td>5.49</td>\n",
       "      <td>1.78</td>\n",
       "      <td>2002-10-28</td>\n",
       "      <td>NaN</td>\n",
       "    </tr>\n",
       "    <tr>\n",
       "      <th>3</th>\n",
       "      <td>/games/boxart/full_9218923AmericaFrontccc.jpg</td>\n",
       "      <td>Grand Theft Auto V</td>\n",
       "      <td>X360</td>\n",
       "      <td>Action</td>\n",
       "      <td>Rockstar Games</td>\n",
       "      <td>Rockstar North</td>\n",
       "      <td>NaN</td>\n",
       "      <td>15.86</td>\n",
       "      <td>9.06</td>\n",
       "      <td>0.06</td>\n",
       "      <td>5.33</td>\n",
       "      <td>1.42</td>\n",
       "      <td>2013-09-17</td>\n",
       "      <td>NaN</td>\n",
       "    </tr>\n",
       "    <tr>\n",
       "      <th>4</th>\n",
       "      <td>/games/boxart/full_4990510AmericaFrontccc.jpg</td>\n",
       "      <td>Call of Duty: Black Ops 3</td>\n",
       "      <td>PS4</td>\n",
       "      <td>Shooter</td>\n",
       "      <td>Activision</td>\n",
       "      <td>Treyarch</td>\n",
       "      <td>8.1</td>\n",
       "      <td>15.09</td>\n",
       "      <td>6.18</td>\n",
       "      <td>0.41</td>\n",
       "      <td>6.05</td>\n",
       "      <td>2.44</td>\n",
       "      <td>2015-11-06</td>\n",
       "      <td>2018-01-14</td>\n",
       "    </tr>\n",
       "  </tbody>\n",
       "</table>\n",
       "</div>"
      ],
      "text/plain": [
       "                                             img                        title  \\\n",
       "0  /games/boxart/full_6510540AmericaFrontccc.jpg           Grand Theft Auto V   \n",
       "1  /games/boxart/full_5563178AmericaFrontccc.jpg           Grand Theft Auto V   \n",
       "2                    /games/boxart/827563ccc.jpg  Grand Theft Auto: Vice City   \n",
       "3  /games/boxart/full_9218923AmericaFrontccc.jpg           Grand Theft Auto V   \n",
       "4  /games/boxart/full_4990510AmericaFrontccc.jpg    Call of Duty: Black Ops 3   \n",
       "\n",
       "  console    genre       publisher       developer  critic_score  total_sales  \\\n",
       "0     PS3   Action  Rockstar Games  Rockstar North           9.4        20.32   \n",
       "1     PS4   Action  Rockstar Games  Rockstar North           9.7        19.39   \n",
       "2     PS2   Action  Rockstar Games  Rockstar North           9.6        16.15   \n",
       "3    X360   Action  Rockstar Games  Rockstar North           NaN        15.86   \n",
       "4     PS4  Shooter      Activision        Treyarch           8.1        15.09   \n",
       "\n",
       "   na_sales  jp_sales  pal_sales  other_sales release_date last_update  \n",
       "0      6.37      0.99       9.85         3.12   2013-09-17         NaN  \n",
       "1      6.06      0.60       9.71         3.02   2014-11-18  2018-01-03  \n",
       "2      8.41      0.47       5.49         1.78   2002-10-28         NaN  \n",
       "3      9.06      0.06       5.33         1.42   2013-09-17         NaN  \n",
       "4      6.18      0.41       6.05         2.44   2015-11-06  2018-01-14  "
      ]
     },
     "execution_count": 2,
     "metadata": {},
     "output_type": "execute_result"
    }
   ],
   "source": [
    "import pandas as pd\n",
    "\n",
    "df = pd.read_csv('vgchartz-2024.csv')\n",
    "\n",
    "df.head()"
   ]
  },
  {
   "cell_type": "markdown",
   "id": "6883767a",
   "metadata": {},
   "source": [
    "Leer y escribir archivos"
   ]
  },
  {
   "cell_type": "code",
   "execution_count": 5,
   "id": "050d15d1",
   "metadata": {},
   "outputs": [
    {
     "name": "stdout",
     "output_type": "stream",
     "text": [
      "                                             img                        title  \\\n",
      "0  /games/boxart/full_6510540AmericaFrontccc.jpg           Grand Theft Auto V   \n",
      "1  /games/boxart/full_5563178AmericaFrontccc.jpg           Grand Theft Auto V   \n",
      "2                    /games/boxart/827563ccc.jpg  Grand Theft Auto: Vice City   \n",
      "3  /games/boxart/full_9218923AmericaFrontccc.jpg           Grand Theft Auto V   \n",
      "4  /games/boxart/full_4990510AmericaFrontccc.jpg    Call of Duty: Black Ops 3   \n",
      "\n",
      "  console    genre       publisher       developer  critic_score  total_sales  \\\n",
      "0     PS3   Action  Rockstar Games  Rockstar North           9.4        20.32   \n",
      "1     PS4   Action  Rockstar Games  Rockstar North           9.7        19.39   \n",
      "2     PS2   Action  Rockstar Games  Rockstar North           9.6        16.15   \n",
      "3    X360   Action  Rockstar Games  Rockstar North           NaN        15.86   \n",
      "4     PS4  Shooter      Activision        Treyarch           8.1        15.09   \n",
      "\n",
      "   na_sales  jp_sales  pal_sales  other_sales release_date last_update  \n",
      "0      6.37      0.99       9.85         3.12   2013-09-17         NaN  \n",
      "1      6.06      0.60       9.71         3.02   2014-11-18  2018-01-03  \n",
      "2      8.41      0.47       5.49         1.78   2002-10-28         NaN  \n",
      "3      9.06      0.06       5.33         1.42   2013-09-17         NaN  \n",
      "4      6.18      0.41       6.05         2.44   2015-11-06  2018-01-14  \n"
     ]
    }
   ],
   "source": [
    "import pandas as pd\n",
    "\n",
    "df_csv = pd.read_csv('vgchartz-2024.csv')\n",
    "print(df_csv.head())"
   ]
  },
  {
   "cell_type": "markdown",
   "id": "49886798",
   "metadata": {},
   "source": [
    "Guardar archivos"
   ]
  },
  {
   "cell_type": "code",
   "execution_count": 7,
   "id": "44f9e47a",
   "metadata": {},
   "outputs": [],
   "source": [
    "import pandas as pd\n",
    "df = pd.read_csv('vgchartz-2024.csv')\n",
    "df.to_csv('example.csv', index=False)"
   ]
  },
  {
   "cell_type": "markdown",
   "id": "f33b6ac3",
   "metadata": {},
   "source": [
    "Inspeccionar el DataFrame"
   ]
  },
  {
   "cell_type": "code",
   "execution_count": 9,
   "id": "f47ad93e",
   "metadata": {},
   "outputs": [
    {
     "name": "stdout",
     "output_type": "stream",
     "text": [
      "                                             img                        title  \\\n",
      "0  /games/boxart/full_6510540AmericaFrontccc.jpg           Grand Theft Auto V   \n",
      "1  /games/boxart/full_5563178AmericaFrontccc.jpg           Grand Theft Auto V   \n",
      "2                    /games/boxart/827563ccc.jpg  Grand Theft Auto: Vice City   \n",
      "3  /games/boxart/full_9218923AmericaFrontccc.jpg           Grand Theft Auto V   \n",
      "4  /games/boxart/full_4990510AmericaFrontccc.jpg    Call of Duty: Black Ops 3   \n",
      "\n",
      "  console    genre       publisher       developer  critic_score  total_sales  \\\n",
      "0     PS3   Action  Rockstar Games  Rockstar North           9.4        20.32   \n",
      "1     PS4   Action  Rockstar Games  Rockstar North           9.7        19.39   \n",
      "2     PS2   Action  Rockstar Games  Rockstar North           9.6        16.15   \n",
      "3    X360   Action  Rockstar Games  Rockstar North           NaN        15.86   \n",
      "4     PS4  Shooter      Activision        Treyarch           8.1        15.09   \n",
      "\n",
      "   na_sales  jp_sales  pal_sales  other_sales release_date last_update  \n",
      "0      6.37      0.99       9.85         3.12   2013-09-17         NaN  \n",
      "1      6.06      0.60       9.71         3.02   2014-11-18  2018-01-03  \n",
      "2      8.41      0.47       5.49         1.78   2002-10-28         NaN  \n",
      "3      9.06      0.06       5.33         1.42   2013-09-17         NaN  \n",
      "4      6.18      0.41       6.05         2.44   2015-11-06  2018-01-14  \n",
      "                                                 img  \\\n",
      "64011  /games/boxart/full_2779838AmericaFrontccc.jpg   \n",
      "64012  /games/boxart/full_8031506AmericaFrontccc.jpg   \n",
      "64013  /games/boxart/full_6553045AmericaFrontccc.jpg   \n",
      "64014    /games/boxart/full_6012940JapanFrontccc.png   \n",
      "64015                      /games/boxart/default.jpg   \n",
      "\n",
      "                                  title console         genre  \\\n",
      "64011             XBlaze Lost: Memories      PC  Visual Novel   \n",
      "64012                      Yoru, Tomosu     PS4  Visual Novel   \n",
      "64013                      Yoru, Tomosu      NS  Visual Novel   \n",
      "64014   Yunohana SpRING! ~Mellow Times~      NS  Visual Novel   \n",
      "64015  Yurukill: The Calumniation Games     PS4  Visual Novel   \n",
      "\n",
      "                  publisher             developer  critic_score  total_sales  \\\n",
      "64011           Aksys Games      Arc System Works           NaN          NaN   \n",
      "64012  Nippon Ichi Software  Nippon Ichi Software           NaN          NaN   \n",
      "64013  Nippon Ichi Software  Nippon Ichi Software           NaN          NaN   \n",
      "64014          Idea Factory               Otomate           NaN          NaN   \n",
      "64015               Unknown            G.rev Ltd.           NaN          NaN   \n",
      "\n",
      "       na_sales  jp_sales  pal_sales  other_sales release_date last_update  \n",
      "64011       NaN       NaN        NaN          NaN   2016-08-11  2019-01-28  \n",
      "64012       NaN       NaN        NaN          NaN   2020-07-30  2020-05-09  \n",
      "64013       NaN       NaN        NaN          NaN   2020-07-30  2020-05-09  \n",
      "64014       NaN       NaN        NaN          NaN   2019-02-28  2019-02-24  \n",
      "64015       NaN       NaN        NaN          NaN          NaN  2023-09-29  \n",
      "<class 'pandas.core.frame.DataFrame'>\n",
      "RangeIndex: 64016 entries, 0 to 64015\n",
      "Data columns (total 14 columns):\n",
      " #   Column        Non-Null Count  Dtype  \n",
      "---  ------        --------------  -----  \n",
      " 0   img           64016 non-null  object \n",
      " 1   title         64016 non-null  object \n",
      " 2   console       64016 non-null  object \n",
      " 3   genre         64016 non-null  object \n",
      " 4   publisher     64016 non-null  object \n",
      " 5   developer     63999 non-null  object \n",
      " 6   critic_score  6678 non-null   float64\n",
      " 7   total_sales   18922 non-null  float64\n",
      " 8   na_sales      12637 non-null  float64\n",
      " 9   jp_sales      6726 non-null   float64\n",
      " 10  pal_sales     12824 non-null  float64\n",
      " 11  other_sales   15128 non-null  float64\n",
      " 12  release_date  56965 non-null  object \n",
      " 13  last_update   17879 non-null  object \n",
      "dtypes: float64(6), object(8)\n",
      "memory usage: 6.8+ MB\n",
      "None\n",
      "       critic_score   total_sales      na_sales     jp_sales     pal_sales  \\\n",
      "count   6678.000000  18922.000000  12637.000000  6726.000000  12824.000000   \n",
      "mean       7.220440      0.349113      0.264740     0.102281      0.149472   \n",
      "std        1.457066      0.807462      0.494787     0.168811      0.392653   \n",
      "min        1.000000      0.000000      0.000000     0.000000      0.000000   \n",
      "25%        6.400000      0.030000      0.050000     0.020000      0.010000   \n",
      "50%        7.500000      0.120000      0.120000     0.040000      0.040000   \n",
      "75%        8.300000      0.340000      0.280000     0.120000      0.140000   \n",
      "max       10.000000     20.320000      9.760000     2.130000      9.850000   \n",
      "\n",
      "        other_sales  \n",
      "count  15128.000000  \n",
      "mean       0.043041  \n",
      "std        0.126643  \n",
      "min        0.000000  \n",
      "25%        0.000000  \n",
      "50%        0.010000  \n",
      "75%        0.030000  \n",
      "max        3.120000  \n",
      "(64016, 14)\n"
     ]
    }
   ],
   "source": [
    "import pandas as pd\n",
    "\n",
    "df = pd.read_csv('vgchartz-2024.csv')\n",
    "\n",
    "print(df.head())       \n",
    "print(df.tail())       \n",
    "print(df.info())       \n",
    "print(df.describe())   \n",
    "print(df.shape)        "
   ]
  },
  {
   "cell_type": "markdown",
   "id": "7586d62f",
   "metadata": {},
   "source": [
    "Selección de datos"
   ]
  },
  {
   "cell_type": "markdown",
   "id": "df20454a",
   "metadata": {},
   "source": [
    "Seleccionar columnas"
   ]
  },
  {
   "cell_type": "code",
   "execution_count": 12,
   "id": "d2949e6d",
   "metadata": {},
   "outputs": [
    {
     "name": "stdout",
     "output_type": "stream",
     "text": [
      "0     PS3\n",
      "1     PS4\n",
      "2     PS2\n",
      "3    X360\n",
      "4     PS4\n",
      "Name: console, dtype: object\n",
      "  console                        title\n",
      "0     PS3           Grand Theft Auto V\n",
      "1     PS4           Grand Theft Auto V\n",
      "2     PS2  Grand Theft Auto: Vice City\n",
      "3    X360           Grand Theft Auto V\n",
      "4     PS4    Call of Duty: Black Ops 3\n"
     ]
    }
   ],
   "source": [
    "import pandas as pd\n",
    "\n",
    "df = pd.read_csv('vgchartz-2024.csv')\n",
    "\n",
    "column= df[\"console\"]\n",
    "print(column.head())\n",
    "column= df[[\"console\",\"title\"]]\n",
    "print(column.head())"
   ]
  },
  {
   "cell_type": "markdown",
   "id": "9c33324b",
   "metadata": {},
   "source": [
    "Seleccionar filas"
   ]
  },
  {
   "cell_type": "code",
   "execution_count": 13,
   "id": "ef074d8c",
   "metadata": {},
   "outputs": [
    {
     "name": "stdout",
     "output_type": "stream",
     "text": [
      "img             /games/boxart/full_6510540AmericaFrontccc.jpg\n",
      "title                                      Grand Theft Auto V\n",
      "console                                                   PS3\n",
      "genre                                                  Action\n",
      "publisher                                      Rockstar Games\n",
      "developer                                      Rockstar North\n",
      "critic_score                                              9.4\n",
      "total_sales                                             20.32\n",
      "na_sales                                                 6.37\n",
      "jp_sales                                                 0.99\n",
      "pal_sales                                                9.85\n",
      "other_sales                                              3.12\n",
      "release_date                                       2013-09-17\n",
      "last_update                                               NaN\n",
      "Name: 0, dtype: object\n",
      "img             /games/boxart/full_6510540AmericaFrontccc.jpg\n",
      "title                                      Grand Theft Auto V\n",
      "console                                                   PS3\n",
      "genre                                                  Action\n",
      "publisher                                      Rockstar Games\n",
      "developer                                      Rockstar North\n",
      "critic_score                                              9.4\n",
      "total_sales                                             20.32\n",
      "na_sales                                                 6.37\n",
      "jp_sales                                                 0.99\n",
      "pal_sales                                                9.85\n",
      "other_sales                                              3.12\n",
      "release_date                                       2013-09-17\n",
      "last_update                                               NaN\n",
      "Name: 0, dtype: object\n"
     ]
    }
   ],
   "source": [
    "import pandas as pd\n",
    "\n",
    "df = pd.read_csv('vgchartz-2024.csv')\n",
    "\n",
    "row_iloc = df.iloc[0]\n",
    "print(row_iloc)\n",
    "\n",
    "row_loc = df.loc[0]\n",
    "print(row_loc)"
   ]
  },
  {
   "cell_type": "markdown",
   "id": "1d325e40",
   "metadata": {},
   "source": [
    "Filtrado de datos"
   ]
  },
  {
   "cell_type": "code",
   "execution_count": 20,
   "id": "1b7d3d44",
   "metadata": {},
   "outputs": [
    {
     "name": "stdout",
     "output_type": "stream",
     "text": [
      "                                             img                        title  \\\n",
      "0  /games/boxart/full_6510540AmericaFrontccc.jpg           Grand Theft Auto V   \n",
      "1  /games/boxart/full_5563178AmericaFrontccc.jpg           Grand Theft Auto V   \n",
      "2                    /games/boxart/827563ccc.jpg  Grand Theft Auto: Vice City   \n",
      "\n",
      "  console   genre       publisher       developer  critic_score  total_sales  \\\n",
      "0     PS3  Action  Rockstar Games  Rockstar North           9.4        20.32   \n",
      "1     PS4  Action  Rockstar Games  Rockstar North           9.7        19.39   \n",
      "2     PS2  Action  Rockstar Games  Rockstar North           9.6        16.15   \n",
      "\n",
      "   na_sales  jp_sales  pal_sales  other_sales release_date last_update  \n",
      "0      6.37      0.99       9.85         3.12   2013-09-17         NaN  \n",
      "1      6.06      0.60       9.71         3.02   2014-11-18  2018-01-03  \n",
      "2      8.41      0.47       5.49         1.78   2002-10-28         NaN  \n"
     ]
    }
   ],
   "source": [
    "import pandas as pd\n",
    "\n",
    "df = pd.read_csv('vgchartz-2024.csv')\n",
    "\n",
    "filter_total_sales = df[df[\"total_sales\"] > 16]\n",
    "print(filter_total_sales)"
   ]
  },
  {
   "cell_type": "markdown",
   "id": "19b8ea0b",
   "metadata": {},
   "source": [
    "Modificar datos"
   ]
  },
  {
   "cell_type": "markdown",
   "id": "dd0ed669",
   "metadata": {},
   "source": [
    "Añadir una nueva columna\n"
   ]
  },
  {
   "cell_type": "code",
   "execution_count": 21,
   "id": "fded350a",
   "metadata": {},
   "outputs": [
    {
     "name": "stdout",
     "output_type": "stream",
     "text": [
      "                                             img                        title  \\\n",
      "0  /games/boxart/full_6510540AmericaFrontccc.jpg           Grand Theft Auto V   \n",
      "1  /games/boxart/full_5563178AmericaFrontccc.jpg           Grand Theft Auto V   \n",
      "2                    /games/boxart/827563ccc.jpg  Grand Theft Auto: Vice City   \n",
      "3  /games/boxart/full_9218923AmericaFrontccc.jpg           Grand Theft Auto V   \n",
      "4  /games/boxart/full_4990510AmericaFrontccc.jpg    Call of Duty: Black Ops 3   \n",
      "\n",
      "  console    genre       publisher       developer  critic_score  total_sales  \\\n",
      "0     PS3   Action  Rockstar Games  Rockstar North           9.4        20.32   \n",
      "1     PS4   Action  Rockstar Games  Rockstar North           9.7        19.39   \n",
      "2     PS2   Action  Rockstar Games  Rockstar North           9.6        16.15   \n",
      "3    X360   Action  Rockstar Games  Rockstar North           NaN        15.86   \n",
      "4     PS4  Shooter      Activision        Treyarch           8.1        15.09   \n",
      "\n",
      "   na_sales  jp_sales  pal_sales  other_sales release_date last_update  Salary  \n",
      "0      6.37      0.99       9.85         3.12   2013-09-17         NaN   50000  \n",
      "1      6.06      0.60       9.71         3.02   2014-11-18  2018-01-03   60000  \n",
      "2      8.41      0.47       5.49         1.78   2002-10-28         NaN   55000  \n",
      "3      9.06      0.06       5.33         1.42   2013-09-17         NaN   50000  \n",
      "4      6.18      0.41       6.05         2.44   2015-11-06  2018-01-14   60000  \n"
     ]
    }
   ],
   "source": [
    "import pandas as pd\n",
    "\n",
    "df = pd.read_csv('vgchartz-2024.csv')\n",
    "\n",
    "df[\"Salary\"] = [50000, 60000, 55000] * (len(df) // 3) + [50000, 60000, 55000][:len(df) % 3]\n",
    "print(df.head())"
   ]
  },
  {
   "cell_type": "markdown",
   "id": "7e287cad",
   "metadata": {},
   "source": [
    "Eliminar columnas o filas\n"
   ]
  },
  {
   "cell_type": "code",
   "execution_count": 23,
   "id": "a8518b2a",
   "metadata": {},
   "outputs": [
    {
     "name": "stdout",
     "output_type": "stream",
     "text": [
      "                                             img                        title  \\\n",
      "0  /games/boxart/full_6510540AmericaFrontccc.jpg           Grand Theft Auto V   \n",
      "1  /games/boxart/full_5563178AmericaFrontccc.jpg           Grand Theft Auto V   \n",
      "2                    /games/boxart/827563ccc.jpg  Grand Theft Auto: Vice City   \n",
      "3  /games/boxart/full_9218923AmericaFrontccc.jpg           Grand Theft Auto V   \n",
      "4  /games/boxart/full_4990510AmericaFrontccc.jpg    Call of Duty: Black Ops 3   \n",
      "\n",
      "  console    genre       publisher       developer  critic_score  total_sales  \\\n",
      "0     PS3   Action  Rockstar Games  Rockstar North           9.4        20.32   \n",
      "1     PS4   Action  Rockstar Games  Rockstar North           9.7        19.39   \n",
      "2     PS2   Action  Rockstar Games  Rockstar North           9.6        16.15   \n",
      "3    X360   Action  Rockstar Games  Rockstar North           NaN        15.86   \n",
      "4     PS4  Shooter      Activision        Treyarch           8.1        15.09   \n",
      "\n",
      "   na_sales  jp_sales  pal_sales  other_sales release_date last_update  \n",
      "0      6.37      0.99       9.85         3.12   2013-09-17         NaN  \n",
      "1      6.06      0.60       9.71         3.02   2014-11-18  2018-01-03  \n",
      "2      8.41      0.47       5.49         1.78   2002-10-28         NaN  \n",
      "3      9.06      0.06       5.33         1.42   2013-09-17         NaN  \n",
      "4      6.18      0.41       6.05         2.44   2015-11-06  2018-01-14  \n",
      "                                                 img  \\\n",
      "1      /games/boxart/full_5563178AmericaFrontccc.jpg   \n",
      "2                        /games/boxart/827563ccc.jpg   \n",
      "3      /games/boxart/full_9218923AmericaFrontccc.jpg   \n",
      "4      /games/boxart/full_4990510AmericaFrontccc.jpg   \n",
      "5  /games/boxart/full_call-of-duty-modern-warfare...   \n",
      "\n",
      "                            title console    genre       publisher  \\\n",
      "1              Grand Theft Auto V     PS4   Action  Rockstar Games   \n",
      "2     Grand Theft Auto: Vice City     PS2   Action  Rockstar Games   \n",
      "3              Grand Theft Auto V    X360   Action  Rockstar Games   \n",
      "4       Call of Duty: Black Ops 3     PS4  Shooter      Activision   \n",
      "5  Call of Duty: Modern Warfare 3    X360  Shooter      Activision   \n",
      "\n",
      "        developer  critic_score  total_sales  na_sales  jp_sales  pal_sales  \\\n",
      "1  Rockstar North           9.7        19.39      6.06      0.60       9.71   \n",
      "2  Rockstar North           9.6        16.15      8.41      0.47       5.49   \n",
      "3  Rockstar North           NaN        15.86      9.06      0.06       5.33   \n",
      "4        Treyarch           8.1        15.09      6.18      0.41       6.05   \n",
      "5   Infinity Ward           8.7        14.82      9.07      0.13       4.29   \n",
      "\n",
      "   other_sales release_date last_update  \n",
      "1         3.02   2014-11-18  2018-01-03  \n",
      "2         1.78   2002-10-28         NaN  \n",
      "3         1.42   2013-09-17         NaN  \n",
      "4         2.44   2015-11-06  2018-01-14  \n",
      "5         1.33   2011-11-08         NaN  \n"
     ]
    }
   ],
   "source": [
    "import pandas as pd\n",
    "\n",
    "df = pd.read_csv('vgchartz-2024.csv')\n",
    "\n",
    "if \"Salary\" in df.columns:\n",
    "\tdf.drop(columns=[\"Salary\"], inplace=True)\n",
    "print(df.head())\n",
    "\n",
    "df.drop(index=0, inplace=True)\n",
    "print(df.head())"
   ]
  },
  {
   "cell_type": "markdown",
   "id": "3c53e6f8",
   "metadata": {},
   "source": [
    "Renombrar columnas\n"
   ]
  },
  {
   "cell_type": "code",
   "execution_count": 24,
   "id": "dfdfa3b1",
   "metadata": {},
   "outputs": [
    {
     "name": "stdout",
     "output_type": "stream",
     "text": [
      "                                             img                        title  \\\n",
      "0  /games/boxart/full_6510540AmericaFrontccc.jpg           Grand Theft Auto V   \n",
      "1  /games/boxart/full_5563178AmericaFrontccc.jpg           Grand Theft Auto V   \n",
      "2                    /games/boxart/827563ccc.jpg  Grand Theft Auto: Vice City   \n",
      "3  /games/boxart/full_9218923AmericaFrontccc.jpg           Grand Theft Auto V   \n",
      "4  /games/boxart/full_4990510AmericaFrontccc.jpg    Call of Duty: Black Ops 3   \n",
      "\n",
      "  consola    genre       publisher       developer  critic_score  total_sales  \\\n",
      "0     PS3   Action  Rockstar Games  Rockstar North           9.4        20.32   \n",
      "1     PS4   Action  Rockstar Games  Rockstar North           9.7        19.39   \n",
      "2     PS2   Action  Rockstar Games  Rockstar North           9.6        16.15   \n",
      "3    X360   Action  Rockstar Games  Rockstar North           NaN        15.86   \n",
      "4     PS4  Shooter      Activision        Treyarch           8.1        15.09   \n",
      "\n",
      "   na_sales  jp_sales  pal_sales  other_sales release_date last_update  \n",
      "0      6.37      0.99       9.85         3.12   2013-09-17         NaN  \n",
      "1      6.06      0.60       9.71         3.02   2014-11-18  2018-01-03  \n",
      "2      8.41      0.47       5.49         1.78   2002-10-28         NaN  \n",
      "3      9.06      0.06       5.33         1.42   2013-09-17         NaN  \n",
      "4      6.18      0.41       6.05         2.44   2015-11-06  2018-01-14  \n"
     ]
    }
   ],
   "source": [
    "import pandas as pd\n",
    "\n",
    "df = pd.read_csv('vgchartz-2024.csv')\n",
    "\n",
    "df.rename(columns={\"console\": \"consola\"}, inplace=True)\n",
    "print(df.head())"
   ]
  },
  {
   "cell_type": "markdown",
   "id": "28817632",
   "metadata": {},
   "source": [
    "Manejo de valores nulos\n"
   ]
  },
  {
   "cell_type": "code",
   "execution_count": 25,
   "id": "230ee141",
   "metadata": {},
   "outputs": [
    {
     "name": "stdout",
     "output_type": "stream",
     "text": [
      "img                 0\n",
      "title               0\n",
      "console             0\n",
      "genre               0\n",
      "publisher           0\n",
      "developer          17\n",
      "critic_score    57338\n",
      "total_sales     45094\n",
      "na_sales        51379\n",
      "jp_sales        57290\n",
      "pal_sales       51192\n",
      "other_sales     48888\n",
      "release_date     7051\n",
      "last_update     46137\n",
      "dtype: int64\n",
      "                                             img                       title  \\\n",
      "1  /games/boxart/full_5563178AmericaFrontccc.jpg          Grand Theft Auto V   \n",
      "4  /games/boxart/full_4990510AmericaFrontccc.jpg   Call of Duty: Black Ops 3   \n",
      "7  /games/boxart/full_4653215AmericaFrontccc.jpg       Red Dead Redemption 2   \n",
      "8  /games/boxart/full_1977964AmericaFrontccc.jpg  Call of Duty: Black Ops II   \n",
      "9  /games/boxart/full_4649679AmericaFrontccc.png  Call of Duty: Black Ops II   \n",
      "\n",
      "  console             genre       publisher       developer  critic_score  \\\n",
      "1     PS4            Action  Rockstar Games  Rockstar North           9.7   \n",
      "4     PS4           Shooter      Activision        Treyarch           8.1   \n",
      "7     PS4  Action-Adventure  Rockstar Games  Rockstar Games           9.8   \n",
      "8    X360           Shooter      Activision        Treyarch           8.4   \n",
      "9     PS3           Shooter      Activision        Treyarch           8.0   \n",
      "\n",
      "   total_sales  na_sales  jp_sales  pal_sales  other_sales release_date  \\\n",
      "1        19.39      6.06      0.60       9.71         3.02   2014-11-18   \n",
      "4        15.09      6.18      0.41       6.05         2.44   2015-11-06   \n",
      "7        13.94      5.26      0.21       6.21         2.26   2018-10-26   \n",
      "8        13.86      8.27      0.07       4.32         1.20   2012-11-13   \n",
      "9        13.80      4.99      0.65       5.88         2.28   2012-11-13   \n",
      "\n",
      "  last_update  \n",
      "1  2018-01-03  \n",
      "4  2018-01-14  \n",
      "7  2018-11-02  \n",
      "8  2018-04-07  \n",
      "9  2018-04-07  \n",
      "                                             img                       title  \\\n",
      "1  /games/boxart/full_5563178AmericaFrontccc.jpg          Grand Theft Auto V   \n",
      "4  /games/boxart/full_4990510AmericaFrontccc.jpg   Call of Duty: Black Ops 3   \n",
      "7  /games/boxart/full_4653215AmericaFrontccc.jpg       Red Dead Redemption 2   \n",
      "8  /games/boxart/full_1977964AmericaFrontccc.jpg  Call of Duty: Black Ops II   \n",
      "9  /games/boxart/full_4649679AmericaFrontccc.png  Call of Duty: Black Ops II   \n",
      "\n",
      "  console             genre       publisher       developer  critic_score  \\\n",
      "1     PS4            Action  Rockstar Games  Rockstar North           9.7   \n",
      "4     PS4           Shooter      Activision        Treyarch           8.1   \n",
      "7     PS4  Action-Adventure  Rockstar Games  Rockstar Games           9.8   \n",
      "8    X360           Shooter      Activision        Treyarch           8.4   \n",
      "9     PS3           Shooter      Activision        Treyarch           8.0   \n",
      "\n",
      "   total_sales  na_sales  jp_sales  pal_sales  other_sales release_date  \\\n",
      "1        19.39      6.06      0.60       9.71         3.02   2014-11-18   \n",
      "4        15.09      6.18      0.41       6.05         2.44   2015-11-06   \n",
      "7        13.94      5.26      0.21       6.21         2.26   2018-10-26   \n",
      "8        13.86      8.27      0.07       4.32         1.20   2012-11-13   \n",
      "9        13.80      4.99      0.65       5.88         2.28   2012-11-13   \n",
      "\n",
      "  last_update  \n",
      "1  2018-01-03  \n",
      "4  2018-01-14  \n",
      "7  2018-11-02  \n",
      "8  2018-04-07  \n",
      "9  2018-04-07  \n"
     ]
    }
   ],
   "source": [
    "import pandas as pd\n",
    "\n",
    "df = pd.read_csv('vgchartz-2024.csv')\n",
    "\n",
    "print(df.isnull().sum())\n",
    "\n",
    "df.dropna(inplace=True)\n",
    "print(df.head())\n",
    "\n",
    "df.fillna(\"Desconocido\", inplace=True)\n",
    "print(df.head())"
   ]
  },
  {
   "cell_type": "markdown",
   "id": "399589b8",
   "metadata": {},
   "source": [
    "Operaciones estadísticas\n"
   ]
  },
  {
   "cell_type": "code",
   "execution_count": 26,
   "id": "a8690c32",
   "metadata": {},
   "outputs": [
    {
     "name": "stdout",
     "output_type": "stream",
     "text": [
      "Promedio de total_sales: 0.34911267307895577\n",
      "Suma total de total_sales: 6605.910000000001\n",
      "Mínimo de total_sales: 0.0\n",
      "Máximo de total_sales: 20.32\n",
      "Desviación estándar de total_sales: 0.8074621979965598\n"
     ]
    }
   ],
   "source": [
    "import pandas as pd\n",
    "\n",
    "df = pd.read_csv('vgchartz-2024.csv')\n",
    "\n",
    "print(\"Promedio de total_sales:\", df[\"total_sales\"].mean())  \n",
    "print(\"Suma total de total_sales:\", df[\"total_sales\"].sum()) \n",
    "print(\"Mínimo de total_sales:\", df[\"total_sales\"].min())  \n",
    "print(\"Máximo de total_sales:\", df[\"total_sales\"].max())  \n",
    "print(\"Desviación estándar de total_sales:\", df[\"total_sales\"].std())   "
   ]
  },
  {
   "cell_type": "markdown",
   "id": "40de46e4",
   "metadata": {},
   "source": [
    "Agrupación de datos\n"
   ]
  },
  {
   "cell_type": "code",
   "execution_count": 28,
   "id": "2e1cd812",
   "metadata": {},
   "outputs": [
    {
     "name": "stdout",
     "output_type": "stream",
     "text": [
      "console\n",
      "2600    0.600476\n",
      "3DO     0.047500\n",
      "3DS     0.176637\n",
      "5200         NaN\n",
      "7800         NaN\n",
      "          ...   \n",
      "XOne    0.513282\n",
      "XS           NaN\n",
      "ZXS          NaN\n",
      "iOS          NaN\n",
      "iQue         NaN\n",
      "Name: total_sales, Length: 81, dtype: float64\n"
     ]
    }
   ],
   "source": [
    "import pandas as pd\n",
    "\n",
    "df = pd.read_csv('vgchartz-2024.csv')\n",
    "\n",
    "average_sales_by_console = df.groupby(\"console\")[\"total_sales\"].mean()\n",
    "print(average_sales_by_console)"
   ]
  },
  {
   "cell_type": "markdown",
   "id": "30dfc1be",
   "metadata": {},
   "source": [
    "Ordenar valores\n"
   ]
  },
  {
   "cell_type": "code",
   "execution_count": 29,
   "id": "e63cbbe9",
   "metadata": {},
   "outputs": [
    {
     "name": "stdout",
     "output_type": "stream",
     "text": [
      "                                             img                        title  \\\n",
      "0  /games/boxart/full_6510540AmericaFrontccc.jpg           Grand Theft Auto V   \n",
      "1  /games/boxart/full_5563178AmericaFrontccc.jpg           Grand Theft Auto V   \n",
      "2                    /games/boxart/827563ccc.jpg  Grand Theft Auto: Vice City   \n",
      "3  /games/boxart/full_9218923AmericaFrontccc.jpg           Grand Theft Auto V   \n",
      "4  /games/boxart/full_4990510AmericaFrontccc.jpg    Call of Duty: Black Ops 3   \n",
      "\n",
      "  console    genre       publisher       developer  critic_score  total_sales  \\\n",
      "0     PS3   Action  Rockstar Games  Rockstar North           9.4        20.32   \n",
      "1     PS4   Action  Rockstar Games  Rockstar North           9.7        19.39   \n",
      "2     PS2   Action  Rockstar Games  Rockstar North           9.6        16.15   \n",
      "3    X360   Action  Rockstar Games  Rockstar North           NaN        15.86   \n",
      "4     PS4  Shooter      Activision        Treyarch           8.1        15.09   \n",
      "\n",
      "   na_sales  jp_sales  pal_sales  other_sales release_date last_update  \n",
      "0      6.37      0.99       9.85         3.12   2013-09-17         NaN  \n",
      "1      6.06      0.60       9.71         3.02   2014-11-18  2018-01-03  \n",
      "2      8.41      0.47       5.49         1.78   2002-10-28         NaN  \n",
      "3      9.06      0.06       5.33         1.42   2013-09-17         NaN  \n",
      "4      6.18      0.41       6.05         2.44   2015-11-06  2018-01-14  \n"
     ]
    }
   ],
   "source": [
    "import pandas as pd\n",
    "\n",
    "df = pd.read_csv('vgchartz-2024.csv')\n",
    "\n",
    "\n",
    "df.sort_values(by=\"total_sales\", ascending=False, inplace=True)\n",
    "print(df.head())"
   ]
  }
 ],
 "metadata": {
  "kernelspec": {
   "display_name": "Python 3",
   "language": "python",
   "name": "python3"
  },
  "language_info": {
   "codemirror_mode": {
    "name": "ipython",
    "version": 3
   },
   "file_extension": ".py",
   "mimetype": "text/x-python",
   "name": "python",
   "nbconvert_exporter": "python",
   "pygments_lexer": "ipython3",
   "version": "3.11.1"
  }
 },
 "nbformat": 4,
 "nbformat_minor": 5
}
